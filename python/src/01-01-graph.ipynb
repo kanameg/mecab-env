{
 "cells": [
  {
   "cell_type": "code",
   "execution_count": null,
   "metadata": {},
   "outputs": [],
   "source": [
    "# -------------------------------------------------------------------\n",
    "# \n",
    "# -------------------------------------------------------------------"
   ]
  },
  {
   "cell_type": "code",
   "execution_count": null,
   "metadata": {},
   "outputs": [],
   "source": [
    "# -------------------------------------------------------------------\n",
    "# import libraries to use\n",
    "# -------------------------------------------------------------------\n",
    "import matplotlib.pyplot as plt\n",
    "import matplotlib as mpl\n",
    "\n",
    "import numpy as np\n",
    "import pandas as pd\n",
    "import scipy as sp\n",
    "import seaborn as sns\n",
    "sns.set()\n",
    "\n",
    "import sklearn\n",
    "from sklearn import datasets\n",
    "from sklearn.model_selection import train_test_split\n",
    "\n",
    "\n",
    "%matplotlib inline\n"
   ]
  },
  {
   "cell_type": "code",
   "execution_count": null,
   "metadata": {},
   "outputs": [],
   "source": [
    "plt.rcParams['font.family'] = 'IPAexGothic'\n",
    "plt.rcParams['font.size'] = 20"
   ]
  },
  {
   "cell_type": "code",
   "execution_count": null,
   "metadata": {},
   "outputs": [],
   "source": [
    "print(mpl.get_configdir())\n",
    "print(mpl.matplotlib_fname())"
   ]
  },
  {
   "cell_type": "code",
   "execution_count": null,
   "metadata": {},
   "outputs": [],
   "source": [
    "pd.set_option(\"display.max_columns\", 100)\n",
    "pd.get_option(\"display.max_columns\")"
   ]
  },
  {
   "cell_type": "code",
   "execution_count": null,
   "metadata": {},
   "outputs": [],
   "source": [
    "# -------------------------------------------------------------------\n",
    "# normal distribution probability density function\n",
    "# 正規分布\n",
    "# -------------------------------------------------------------------"
   ]
  },
  {
   "cell_type": "code",
   "execution_count": null,
   "metadata": {},
   "outputs": [],
   "source": [
    "from scipy.stats import norm"
   ]
  },
  {
   "cell_type": "code",
   "execution_count": null,
   "metadata": {},
   "outputs": [],
   "source": [
    "norm_rvs = norm.rvs(loc=0, scale=1, size=100, random_state=0)\n",
    "\n",
    "plt.hist(norm_rvs, bins='sturges')\n",
    "plt.show()"
   ]
  },
  {
   "cell_type": "code",
   "execution_count": null,
   "metadata": {},
   "outputs": [],
   "source": [
    "x = np.linspace(-4, 4, 10000)\n",
    "plt.plot(x, norm.pdf(x, loc=0, scale=1), linestyle='-')\n",
    "plt.title(\"正規分布\")\n",
    "plt.xlim(-4, 4)\n",
    "plt.ylim(0, 0.5)\n",
    "\n",
    "lower, upper = norm.interval(alpha=0.95, loc=0, scale=1)\n",
    "print('信頼区間95％の下限：', lower)\n",
    "print('信頼区間95％の上限：', upper)\n",
    "\n",
    "# v_lower = norm.pdf(x=lower, loc=0, scale=1)\n",
    "# v_upper = norm.pdf(x=upper, loc=0, scale=1)\n",
    "# plt.plot(lower, 0.0, 'k|')\n",
    "# plt.plot(upper, 0.0, 'k|')\n",
    "# plt.vlines(lower, 0.0, v_lower, lw=1) # 下限の垂直線\n",
    "# plt.vlines(upper, 0.0, v_upper, lw=1) # 上限の垂直線\n",
    "plt.show()\n"
   ]
  },
  {
   "cell_type": "code",
   "execution_count": null,
   "metadata": {},
   "outputs": [],
   "source": []
  },
  {
   "cell_type": "code",
   "execution_count": null,
   "metadata": {},
   "outputs": [],
   "source": [
    "# -------------------------------------------------------------------\n",
    "# exponential distribution probability density function\n",
    "# 指数分布\n",
    "# -------------------------------------------------------------------"
   ]
  },
  {
   "cell_type": "code",
   "execution_count": null,
   "metadata": {},
   "outputs": [],
   "source": [
    "from scipy.stats import expon"
   ]
  },
  {
   "cell_type": "code",
   "execution_count": null,
   "metadata": {},
   "outputs": [],
   "source": [
    "x = np.linspace(0, 16, 10000)\n",
    "plt.plot(x, expon.pdf(x), linestyle='-')\n",
    "plt.title(\"指数分布\")\n",
    "plt.xlim(0, 15)\n",
    "plt.ylim(0, 0.5)\n",
    "plt.legend()\n",
    "plt.show()"
   ]
  },
  {
   "cell_type": "code",
   "execution_count": null,
   "metadata": {},
   "outputs": [],
   "source": [
    "# -------------------------------------------------------------------\n",
    "# chi-square distribuion probability density function\n",
    "# χ2分布\n",
    "# -------------------------------------------------------------------"
   ]
  },
  {
   "cell_type": "code",
   "execution_count": null,
   "metadata": {},
   "outputs": [],
   "source": [
    "from scipy.stats import chi2"
   ]
  },
  {
   "cell_type": "code",
   "execution_count": null,
   "metadata": {},
   "outputs": [],
   "source": [
    "ks = [1, 2, 3, 4, 5, 6]"
   ]
  },
  {
   "cell_type": "code",
   "execution_count": null,
   "metadata": {},
   "outputs": [],
   "source": [
    "x = np.linspace(0, 16, 10000)\n",
    "for k in ks:\n",
    "    plt.plot(x, chi2.pdf(x, k), linestyle='-', label=\"自由度 k={}\".format(k))\n",
    "plt.title(\"χ2分布\")\n",
    "plt.xlim(0, 15)\n",
    "plt.ylim(0, 0.5)\n",
    "plt.legend()\n",
    "plt.show()"
   ]
  },
  {
   "cell_type": "code",
   "execution_count": null,
   "metadata": {},
   "outputs": [],
   "source": [
    "p = np.linspace(-20, 20, 100)   # linspace(min, max, N) で範囲 min から max を N 分割します\n",
    "q = 1 / (1 + np.exp(-p))\n",
    "plt.plot(p, q)\n",
    "plt.title(\"テストグラフ\")\n",
    "plt.show()"
   ]
  }
 ],
 "metadata": {
  "kernelspec": {
   "display_name": "Python 3",
   "language": "python",
   "name": "python3"
  },
  "language_info": {
   "codemirror_mode": {
    "name": "ipython",
    "version": 3
   },
   "file_extension": ".py",
   "mimetype": "text/x-python",
   "name": "python",
   "nbconvert_exporter": "python",
   "pygments_lexer": "ipython3",
   "version": "3.8.16"
  },
  "orig_nbformat": 4,
  "vscode": {
   "interpreter": {
    "hash": "949777d72b0d2535278d3dc13498b2535136f6dfe0678499012e853ee9abcab1"
   }
  }
 },
 "nbformat": 4,
 "nbformat_minor": 2
}
